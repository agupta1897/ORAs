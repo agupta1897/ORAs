{
 "cells": [
  {
   "cell_type": "code",
   "execution_count": 1,
   "metadata": {},
   "outputs": [],
   "source": [
    "import shutil\n",
    "import os\n",
    "import numpy as np\n",
    "import argparse\n",
    "from os import path\n"
   ]
  },
  {
   "cell_type": "code",
   "execution_count": 2,
   "metadata": {},
   "outputs": [],
   "source": [
    "def get_files_from_folder(path):\n",
    "    files = os.listdir(path)\n",
    "    return np.asarray(files)"
   ]
  },
  {
   "cell_type": "code",
   "execution_count": null,
   "metadata": {},
   "outputs": [],
   "source": [
    "dirName = \"data/rain/rainy-image-dataset-master/\"\n",
    "gtPath = dirName + \"ground truth\"\n",
    "gtTrainPath = dirName + \"ground_truth_train\"\n",
    "gtTestPath = dirName+ \"ground_truth_test\"\n",
    "\n",
    "riTrainPath = dirName + \"rainy_image_train\"\n",
    "riTestPath = dirName + \"rainy_image_test\"\n",
    "riPath = dirName + \"rainy image\"\n",
    "\n",
    "os.mkdir(gtTrainPath)\n",
    "os.mkdir(gtTestPath)\n",
    "os.mkdir(riTrainPath)\n",
    "os.mkdir(riTestPath)\n"
   ]
  },
  {
   "cell_type": "code",
   "execution_count": null,
   "metadata": {},
   "outputs": [],
   "source": [
    "x = get_files_from_folder(gtPath)\n",
    "\n",
    "SPLIT_RATIO = 0.8\n",
    "\n",
    "numTotalFiles = x.shape[0]\n",
    "numTrainFiles = int(numTotalFiles* SPLIT_RATIO)\n",
    "numTestFiles = numTotalFiles - numTrainFiles\n",
    "\n",
    "gtTrainFiles = np.random.choice(x, numTrainFiles, replace = False)\n",
    "\n",
    "\n",
    "allfiles = x.tolist()\n",
    "for i in range(numTrainFiles):\n",
    "    fileName = gtTrainFiles[i]\n",
    "    allfiles.remove(fileName)\n",
    "\n",
    "gtTestFiles = allfiles\n",
    "\n",
    "\n",
    "riTrainFiles = []\n",
    "\n",
    "for file in gtTrainFiles:\n",
    "    a,b = file.split(\".\")\n",
    "    for i in range(1, 15):\n",
    "        newName = \"\"\n",
    "        newName = a+\"_\"+ str(i)+ \".\" +b\n",
    "        riTrainFiles.append(newName)\n",
    "        \n",
    "\n",
    "riTestFiles = []\n",
    "\n",
    "for file in gtTestFiles:\n",
    "    a,b = file.split(\".\")\n",
    "    for i in range(1, 15):\n",
    "        newName = \"\"\n",
    "        newName = a+\"_\"+ str(i)+ \".\" +b\n",
    "        riTestFiles.append(newName)\n",
    "        \n"
   ]
  },
  {
   "cell_type": "code",
   "execution_count": null,
   "metadata": {},
   "outputs": [],
   "source": [
    "\n",
    "destination = gtTrainPath\n",
    "for file in gtTrainFiles:\n",
    "    source = gtPath + \"/\"+ file\n",
    "    print(source)\n",
    "    dest = shutil.copy(source, destination)\n",
    "\n",
    "\n",
    "destination = gtTestPath    \n",
    "for file in gtTestFiles:\n",
    "    source = gtPath + \"/\"+ file\n",
    "    print(source)\n",
    "    dest = shutil.copy(source, destination)\n",
    "    \n",
    "\n",
    "\n",
    "destination = riTrainPath    \n",
    "for file in riTrainFiles:\n",
    "    source = riPath + \"/\"+ file\n",
    "    print(source)\n",
    "    dest = shutil.copy(source, destination)   \n",
    "\n",
    "destination = riTestPath    \n",
    "for file in riTestFiles:\n",
    "    source = riPath + \"/\"+ file\n",
    "    print(source)\n",
    "    dest = shutil.copy(source, destination)   \n",
    "    \n",
    "\n"
   ]
  },
  {
   "cell_type": "code",
   "execution_count": null,
   "metadata": {},
   "outputs": [],
   "source": [
    "dirName = \"data/de-fencing/SynthesizedData/\"\n",
    "gtPath = dirName + \"train/image\"\n",
    "gtTestPath = dirName+ \"test/gt\"\n",
    "\n",
    "fencyPath = dirName + \"train/fency\"\n",
    "fencyTestPath = dirName + \"test/fency\"\n",
    "\n",
    "\n",
    "os.mkdir(gtTestPath)\n",
    "os.mkdir(riTestPath)"
   ]
  },
  {
   "cell_type": "code",
   "execution_count": null,
   "metadata": {},
   "outputs": [],
   "source": [
    "x = get_files_from_folder(gtPath)\n",
    "\n",
    "TEST_RATIO = 0.2\n",
    "\n",
    "numTotalFiles = x.shape[0]\n",
    "numTestFiles = int(numTotalFiles* SPLIT_RATIO)\n",
    "\n",
    "gtTestFiles = np.random.choice(x, numTestFiles, replace = False)\n",
    "\n",
    "destination = gtTestPath    \n",
    "for file in gtTestFiles:\n",
    "    source = gtPath + \"/\"+ file\n",
    "    print(source)\n",
    "    dest = shutil.move(source, destination)   \n",
    "    \n",
    "destination = fencyTestPath    \n",
    "for file in gtTestFiles:\n",
    "    source = fencyPath + \"/\"+ file\n",
    "    print(source)\n",
    "    dest = shutil.move(source, destination)   \n"
   ]
  }
 ],
 "metadata": {
  "kernelspec": {
   "display_name": "Python 3",
   "language": "python",
   "name": "python3"
  },
  "language_info": {
   "codemirror_mode": {
    "name": "ipython",
    "version": 3
   },
   "file_extension": ".py",
   "mimetype": "text/x-python",
   "name": "python",
   "nbconvert_exporter": "python",
   "pygments_lexer": "ipython3",
   "version": "3.6.9"
  }
 },
 "nbformat": 4,
 "nbformat_minor": 2
}
