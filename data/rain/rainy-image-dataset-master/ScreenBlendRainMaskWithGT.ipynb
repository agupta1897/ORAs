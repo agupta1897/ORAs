{
 "cells": [
  {
   "cell_type": "code",
   "execution_count": 12,
   "metadata": {},
   "outputs": [],
   "source": [
    "import glob\n",
    "from PIL import Image\n",
    "import numpy as np\n",
    "from matplotlib.pyplot import imshow\n",
    "from blend_modes import blending_functions\n",
    "from scipy import misc\n",
    "\n",
    " \n",
    "%matplotlib inline\n",
    "\n",
    "\n",
    "def minMaxNormalize(img):\n",
    "    z = img.max() - img.min()\n",
    "    a = (img - img.min())/z\n",
    "    return a * 255.0\n",
    "\n",
    "def rgba2rgb( rgba, background=(255,255,255) ):\n",
    "    row, col, ch = rgba.shape\n",
    "\n",
    "    if ch == 3:\n",
    "        return rgba\n",
    "\n",
    "    assert ch == 4, 'RGBA image has 4 channels.'\n",
    "\n",
    "    rgb = np.zeros( (row, col, 3), dtype='float32' )\n",
    "    r, g, b, a = rgba[:,:,0], rgba[:,:,1], rgba[:,:,2], rgba[:,:,3]\n",
    "\n",
    "    a = np.asarray( a, dtype='float32' ) / 255.0\n",
    "\n",
    "    R, G, B = background\n",
    "\n",
    "    rgb[:,:,0] = r * a + (1.0 - a) * R\n",
    "    rgb[:,:,1] = g * a + (1.0 - a) * G\n",
    "    rgb[:,:,2] = b * a + (1.0 - a) * B\n",
    "\n",
    "    return np.asarray( rgb, dtype='uint8' )"
   ]
  },
  {
   "cell_type": "code",
   "execution_count": 13,
   "metadata": {},
   "outputs": [],
   "source": [
    "\n",
    "masks = []\n",
    "masksGrey = [] \n",
    "\n",
    "\n",
    "fileNames = []\n",
    "for f in glob.iglob(\"mask/*\"):\n",
    "    fileNames.append(f.split(\"\\\\\")[1])\n",
    "                                    \n",
    "\n",
    "for f in fileNames:\n",
    "    path = 'mask\\\\'+f\n",
    "    masksGrey.append(io.imread(path, as_gray=True))\n",
    "    masks.append(np.asarray(Image.open(path), dtype=np.float64))\n",
    "\n",
    "images = []\n",
    "for f in fileNames:\n",
    "    path = 'images\\\\'+f\n",
    "    images.append( np.asarray(Image.open(path), dtype=np.float64 ))\n",
    "\n",
    "\n",
    "    \n"
   ]
  },
  {
   "cell_type": "code",
   "execution_count": null,
   "metadata": {},
   "outputs": [],
   "source": []
  },
  {
   "cell_type": "code",
   "execution_count": 14,
   "metadata": {},
   "outputs": [
    {
     "name": "stderr",
     "output_type": "stream",
     "text": [
      "C:\\Users\\Amber\\Anaconda3\\lib\\site-packages\\ipykernel_launcher.py:14: DeprecationWarning: `imsave` is deprecated!\n",
      "`imsave` is deprecated in SciPy 1.0.0, and will be removed in 1.2.0.\n",
      "Use ``imageio.imwrite`` instead.\n",
      "  \n"
     ]
    }
   ],
   "source": [
    "from skimage import color\n",
    "from skimage import io\n",
    "\n",
    "for i in range(len(fileNames)):\n",
    "    image = minMaxNormalize(images[i])\n",
    "    H,W,C = image.shape\n",
    "    mask = minMaxNormalize(masks[i])\n",
    "    layer4 = minMaxNormalize(np.asarray(masksGrey[i]))\n",
    "    rgba = np.concatenate((mask, layer4[:,:, np.newaxis]), axis=2)\n",
    "    image1 = np.concatenate((image, np.ones((H,W, 1))), axis=2)\n",
    "    res = blending_functions.screen( image1, rgba , 1.0)\n",
    "    result  = res[:,:,0:3]\n",
    "    name = fileNames[i].split(\".\")[0]\n",
    "    misc.imsave( \"mixed/\" + name + \"_1.jpg\", result)\n",
    "\n",
    "\n",
    "\n"
   ]
  },
  {
   "cell_type": "code",
   "execution_count": 15,
   "metadata": {},
   "outputs": [],
   "source": [
    "import os\n",
    "for f in fileNames:\n",
    "    path = 'mask\\\\'+f\n",
    "    dst = 'mask\\\\' + f.split(\".\")[0] + \"_1.jpg\"\n",
    "    os.rename(path, dst)"
   ]
  },
  {
   "cell_type": "code",
   "execution_count": 80,
   "metadata": {},
   "outputs": [
    {
     "name": "stdout",
     "output_type": "stream",
     "text": [
      "[[0.2        0.24210526 0.37894737 ... 0.23157895 0.6        0.16842105]\n",
      " [0.15789474 0.35789474 0.23157895 ... 0.43157895 0.38947368 0.12631579]\n",
      " [0.21052632 0.34736842 0.13684211 ... 0.55789474 0.2        0.08421053]\n",
      " ...\n",
      " [0.23157895 0.15789474 0.32631579 ... 0.17894737 0.13684211 0.35789474]\n",
      " [0.23157895 0.17894737 0.48421053 ... 0.09473684 0.22105263 0.31578947]\n",
      " [0.14736842 0.32631579 0.58947368 ... 0.11578947 0.35789474 0.18947368]]\n"
     ]
    }
   ],
   "source": [
    "\n",
    "\n"
   ]
  },
  {
   "cell_type": "code",
   "execution_count": null,
   "metadata": {},
   "outputs": [],
   "source": []
  }
 ],
 "metadata": {
  "kernelspec": {
   "display_name": "Python 3",
   "language": "python",
   "name": "python3"
  },
  "language_info": {
   "codemirror_mode": {
    "name": "ipython",
    "version": 3
   },
   "file_extension": ".py",
   "mimetype": "text/x-python",
   "name": "python",
   "nbconvert_exporter": "python",
   "pygments_lexer": "ipython3",
   "version": "3.7.3"
  }
 },
 "nbformat": 4,
 "nbformat_minor": 2
}
