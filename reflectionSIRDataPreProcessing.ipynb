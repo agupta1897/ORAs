{
 "cells": [
  {
   "cell_type": "code",
   "execution_count": 1,
   "metadata": {},
   "outputs": [],
   "source": [
    "import shutil\n",
    "import os\n",
    "import numpy as np\n",
    "import argparse\n",
    "from os import path"
   ]
  },
  {
   "cell_type": "code",
   "execution_count": 2,
   "metadata": {},
   "outputs": [],
   "source": [
    "def get_files_from_folder(path):\n",
    "    files = os.listdir(path)\n",
    "    return np.asarray(files)\n",
    "\n",
    "\n",
    "def renamePath(path, addon):\n",
    "    x = path.split(\"/\")\n",
    "    x[-1]= addon +  x[-1]\n",
    "    \n",
    "    result =\"\"\n",
    "    for i in range(len(x)-1):\n",
    "        result = result + x[i] + \"/\"\n",
    "    \n",
    "    result = result + x[-1].replace(\" \", \"\") \n",
    "    return result\n",
    "\n",
    "def copyfiles(fileNames, filePath, destination):\n",
    "    for file in fileNames:\n",
    "        source = filePath + \"/\"+ file\n",
    "        if path.exists(source):\n",
    "            dest = shutil.copy(source, destination)\n",
    "    \n",
    "\n",
    "def copyfilesWithRename(fileNames, filePath, destination, addon):\n",
    "    for file in fileNames:\n",
    "        source = filePath + \"/\"+ file\n",
    "        if path.exists(source):\n",
    "            dest = shutil.copy(source, destination)\n",
    "            dest = dest.replace(\"\\\\\", \"/\")\n",
    "            final = renamePath(dest, addon)\n",
    "            os.rename(dest, final)\n",
    "            \n",
    "            \n",
    "        \n",
    "\n",
    "\n"
   ]
  },
  {
   "cell_type": "code",
   "execution_count": 3,
   "metadata": {},
   "outputs": [
    {
     "name": "stdout",
     "output_type": "stream",
     "text": [
      "Creating Following Directories:\n",
      "data/reflection/SIR/ground_truth_train\n",
      "data/reflection/SIR/ground_truth_test\n",
      "data/reflection/SIR/mixed_image_train\n",
      "data/reflection/SIR/mixed_image_test\n"
     ]
    }
   ],
   "source": [
    "dirName = \"data/reflection/SIR/\"\n",
    "postCardDatasetName = \"PostcardDataset_Flat\"\n",
    "solidObjectDatasetName = \"SolidObjectDataset_Flat\"\n",
    "wildSceneDatasetName = \"WildSceneDataset_Flat\"\n",
    "\n",
    "\n",
    "gtTrainPath = dirName + \"ground_truth_train\"\n",
    "gtTestPath = dirName+ \"ground_truth_test\"\n",
    "\n",
    "mixTrainPath = dirName + \"mixed_image_train\"\n",
    "mixTestPath = dirName + \"mixed_image_test\"\n",
    "\n",
    "pcFilePath = dirName + postCardDatasetName\n",
    "soFilePath = dirName + solidObjectDatasetName\n",
    "wsFilePath = dirName + wildSceneDatasetName\n",
    "\n",
    "SPLIT_RATIO = 0.8\n",
    "\n",
    "\n",
    "print(\"Creating Following Directories:\")\n",
    "print(gtTrainPath)\n",
    "os.mkdir(gtTrainPath)\n",
    "\n",
    "print(gtTestPath)\n",
    "os.mkdir(gtTestPath)\n",
    "\n",
    "print(mixTrainPath)\n",
    "os.mkdir(mixTrainPath)\n",
    "\n",
    "print(mixTestPath)\n",
    "os.mkdir(mixTestPath)\n"
   ]
  },
  {
   "cell_type": "code",
   "execution_count": 4,
   "metadata": {},
   "outputs": [
    {
     "name": "stdout",
     "output_type": "stream",
     "text": [
      "Spliting PostCard Dataset\n"
     ]
    }
   ],
   "source": [
    "print(\"Spliting PostCard Dataset\")\n",
    "\n",
    "pcFiles = get_files_from_folder(pcFilePath)\n",
    "\n",
    "pcGt = []\n",
    "for file in pcFiles:\n",
    "    if \"-g-\" in file:\n",
    "        mix =  file.replace(\"-g-\", \"-m-\", 1)\n",
    "        if mix in pcFiles:\n",
    "            pcGt.append(file)\n",
    "        else:\n",
    "            print(\"We have a problem  \", file, mix)\n",
    "\n",
    "            \n",
    "numGtFiles = len(pcGt)\n",
    "numGtTrainFiles = int(numGtFiles * SPLIT_RATIO)\n",
    "numGtTestFiles = numGtFiles - numGtTrainFiles\n",
    "\n",
    "gtTrainFiles = np.random.choice(pcGt, numGtTrainFiles, replace = False)\n",
    "\n",
    "allfiles = pcGt\n",
    "for i in range(numGtTrainFiles):\n",
    "    fileName = gtTrainFiles[i]\n",
    "    allfiles.remove(fileName)\n",
    "\n",
    "gtTestFiles = allfiles\n",
    "mixTestFiles = []\n",
    "mixTrainFiles =[]\n",
    "\n",
    "for file in gtTestFiles:\n",
    "    mixTestFiles.append(file.replace(\"-g-\", \"-m-\", 1))\n",
    "    \n",
    "for file in gtTrainFiles.tolist():\n",
    "    mixTrainFiles.append(file.replace(\"-g-\", \"-m-\", 1))\n",
    "    \n",
    "\n",
    "\n",
    "\n"
   ]
  },
  {
   "cell_type": "code",
   "execution_count": 5,
   "metadata": {},
   "outputs": [
    {
     "name": "stdout",
     "output_type": "stream",
     "text": [
      "PostCard Dataset Copied\n"
     ]
    }
   ],
   "source": [
    "copyfiles(gtTrainFiles, pcFilePath, gtTrainPath)\n",
    "copyfiles(gtTestFiles, pcFilePath, gtTestPath)\n",
    "copyfiles(mixTrainFiles, pcFilePath, mixTrainPath)\n",
    "copyfiles(mixTestFiles, pcFilePath, mixTestPath)\n",
    "print(\"PostCard Dataset Copied\")\n"
   ]
  },
  {
   "cell_type": "code",
   "execution_count": 6,
   "metadata": {},
   "outputs": [
    {
     "name": "stdout",
     "output_type": "stream",
     "text": [
      "Spliting SolidObject Dataset\n"
     ]
    }
   ],
   "source": [
    "print(\"Spliting SolidObject Dataset\")\n",
    "\n",
    "\n",
    "\n",
    "soFiles = get_files_from_folder(soFilePath)\n",
    "\n",
    "soGt = []\n",
    "for file in soFiles:\n",
    "    if \"g \" in file:\n",
    "        mix =  file.replace(\"g \", \"m \", 1)\n",
    "        if mix in soFiles:\n",
    "            soGt.append(file)\n",
    "        else:\n",
    "            print(\"We have a problem  \", file, mix)\n",
    "            \n",
    "numGtFiles = len(soGt)\n",
    "numGtTrainFiles = int(numGtFiles * SPLIT_RATIO)\n",
    "numGtTestFiles = numGtFiles - numGtTrainFiles\n",
    "\n",
    "gtTrainFiles = np.random.choice(soGt, numGtTrainFiles, replace = False)\n",
    "allfiles = soGt\n",
    "\n",
    "for i in range(numGtTrainFiles):\n",
    "    fileName = gtTrainFiles[i]\n",
    "    allfiles.remove(fileName)\n",
    "\n",
    "gtTestFiles = allfiles\n",
    "mixTestFiles = []\n",
    "mixTrainFiles =[]\n",
    "\n",
    "for file in gtTestFiles:\n",
    "    mixTestFiles.append(file.replace(\"g \", \"m \", 1))\n",
    "    \n",
    "for file in gtTrainFiles.tolist():\n",
    "    mixTrainFiles.append(file.replace(\"g \", \"m \", 1))\n",
    "\n",
    "    \n",
    "\n",
    "\n"
   ]
  },
  {
   "cell_type": "code",
   "execution_count": 7,
   "metadata": {},
   "outputs": [
    {
     "name": "stdout",
     "output_type": "stream",
     "text": [
      "SolidObject Dataset Copied\n"
     ]
    }
   ],
   "source": [
    "copyfilesWithRename(gtTrainFiles, soFilePath, gtTrainPath, \"so_\")\n",
    "copyfilesWithRename(gtTestFiles, soFilePath, gtTestPath, \"so_\")\n",
    "copyfilesWithRename(mixTrainFiles, soFilePath, mixTrainPath, \"so_\")\n",
    "copyfilesWithRename(mixTestFiles, soFilePath, mixTestPath, \"so_\")\n",
    "print(\"SolidObject Dataset Copied\")\n"
   ]
  },
  {
   "cell_type": "code",
   "execution_count": 8,
   "metadata": {},
   "outputs": [
    {
     "name": "stdout",
     "output_type": "stream",
     "text": [
      "Spliting Wild Scene Dataset\n"
     ]
    }
   ],
   "source": [
    "print(\"Spliting Wild Scene Dataset\")\n",
    "\n",
    "wsFiles = get_files_from_folder(wsFilePath)\n",
    "\n",
    "wsGt = []\n",
    "for file in wsFiles:\n",
    "    if \"g \" in file:\n",
    "        mix =  file.replace(\"g \", \"m \", 1)\n",
    "        if mix in wsFiles:\n",
    "            wsGt.append(file)\n",
    "        else:\n",
    "            print(\"We have a problem  \", file, mix)\n",
    "            \n",
    "numGtFiles = len(wsGt)\n",
    "numGtTrainFiles = int(numGtFiles * SPLIT_RATIO)\n",
    "numGtTestFiles = numGtFiles - numGtTrainFiles\n",
    "\n",
    "gtTrainFiles = np.random.choice(wsGt, numGtTrainFiles, replace = False)\n",
    "allfiles = wsGt\n",
    "\n",
    "for i in range(numGtTrainFiles):\n",
    "    fileName = gtTrainFiles[i]\n",
    "    allfiles.remove(fileName)\n",
    "\n",
    "gtTestFiles = allfiles\n",
    "mixTestFiles = []\n",
    "mixTrainFiles =[]\n",
    "\n",
    "for file in gtTestFiles:\n",
    "    mixTestFiles.append(file.replace(\"g \", \"m \", 1))\n",
    "    \n",
    "for file in gtTrainFiles.tolist():\n",
    "    mixTrainFiles.append(file.replace(\"g \", \"m \", 1))\n"
   ]
  },
  {
   "cell_type": "code",
   "execution_count": 9,
   "metadata": {},
   "outputs": [
    {
     "name": "stdout",
     "output_type": "stream",
     "text": [
      "Wild Scene Dataset Copied\n",
      "Done!\n"
     ]
    }
   ],
   "source": [
    "copyfilesWithRename(gtTrainFiles, soFilePath, gtTrainPath, \"ws_\")\n",
    "copyfilesWithRename(gtTestFiles, soFilePath, gtTestPath, \"ws_\")\n",
    "copyfilesWithRename(mixTrainFiles, soFilePath, mixTrainPath, \"ws_\")\n",
    "copyfilesWithRename(mixTestFiles, soFilePath, mixTestPath, \"ws_\")\n",
    "print(\"Wild Scene Dataset Copied\")\n",
    "print(\"Done!\")"
   ]
  },
  {
   "cell_type": "code",
   "execution_count": null,
   "metadata": {},
   "outputs": [],
   "source": []
  }
 ],
 "metadata": {
  "kernelspec": {
   "display_name": "Python 3",
   "language": "python",
   "name": "python3"
  },
  "language_info": {
   "codemirror_mode": {
    "name": "ipython",
    "version": 3
   },
   "file_extension": ".py",
   "mimetype": "text/x-python",
   "name": "python",
   "nbconvert_exporter": "python",
   "pygments_lexer": "ipython3",
   "version": "3.6.9"
  }
 },
 "nbformat": 4,
 "nbformat_minor": 2
}
